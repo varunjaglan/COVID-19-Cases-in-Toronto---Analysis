{
 "cells": [
  {
   "cell_type": "code",
   "execution_count": 1,
   "metadata": {},
   "outputs": [],
   "source": [
    "import pandas as pd\n",
    "import matplotlib.pyplot as plt\n",
    "import numpy as np\n",
    "import seaborn as sns\n",
    "import datetime as dt\n",
    "import statsmodels.api as sm\n",
    "from sklearn.model_selection import train_test_split\n",
    "from sklearn.metrics import classification_report\n",
    "from sklearn.preprocessing import OrdinalEncoder\n",
    "from sklearn.linear_model import LogisticRegression\n",
    "from sklearn.tree import DecisionTreeClassifier\n",
    "ord_enc = OrdinalEncoder()\n",
    "%matplotlib inline"
   ]
  },
  {
   "cell_type": "markdown",
   "metadata": {},
   "source": [
    "# Data Preprocessing "
   ]
  },
  {
   "cell_type": "code",
   "execution_count": 2,
   "metadata": {},
   "outputs": [],
   "source": [
    "data = pd.read_csv(\"C:\\\\Users\\\\nidhi19\\\\OneDrive - York University\\\\Documents\\\\Varun\\\\CIND 820 Project\\\\COVID19 cases - June 30th.csv\")\n",
    "data = data.dropna().reset_index()\n",
    "data = data.drop(columns=['index', '_id', 'Assigned_ID'])"
   ]
  },
  {
   "cell_type": "code",
   "execution_count": 3,
   "metadata": {},
   "outputs": [],
   "source": [
    "data['Episode Date'] = pd.to_datetime(data['Episode Date'])\n",
    "data['Episode Date'] = (data['Episode Date'] - data['Episode Date'].min()).dt.days\n",
    "\n",
    "data['Reported Date'] = pd.to_datetime(data['Reported Date'])\n",
    "data['Reported Date'] = (data['Reported Date'] - data['Reported Date'].min()).dt.days"
   ]
  },
  {
   "cell_type": "code",
   "execution_count": 4,
   "metadata": {},
   "outputs": [
    {
     "data": {
      "text/html": [
       "<div>\n",
       "<style scoped>\n",
       "    .dataframe tbody tr th:only-of-type {\n",
       "        vertical-align: middle;\n",
       "    }\n",
       "\n",
       "    .dataframe tbody tr th {\n",
       "        vertical-align: top;\n",
       "    }\n",
       "\n",
       "    .dataframe thead th {\n",
       "        text-align: right;\n",
       "    }\n",
       "</style>\n",
       "<table border=\"1\" class=\"dataframe\">\n",
       "  <thead>\n",
       "    <tr style=\"text-align: right;\">\n",
       "      <th></th>\n",
       "      <th>Outbreak Associated</th>\n",
       "      <th>Age Group</th>\n",
       "      <th>Neighbourhood Name</th>\n",
       "      <th>FSA</th>\n",
       "      <th>Source of Infection</th>\n",
       "      <th>Classification</th>\n",
       "      <th>Episode Date</th>\n",
       "      <th>Reported Date</th>\n",
       "      <th>Client Gender</th>\n",
       "      <th>Outcome</th>\n",
       "      <th>Currently Hospitalized</th>\n",
       "      <th>Currently in ICU</th>\n",
       "      <th>Currently Intubated</th>\n",
       "      <th>Ever Hospitalized</th>\n",
       "      <th>Ever in ICU</th>\n",
       "      <th>Ever Intubated</th>\n",
       "    </tr>\n",
       "  </thead>\n",
       "  <tbody>\n",
       "    <tr>\n",
       "      <th>0</th>\n",
       "      <td>Sporadic</td>\n",
       "      <td>50 to 59 Years</td>\n",
       "      <td>Willowdale East</td>\n",
       "      <td>M2N</td>\n",
       "      <td>Travel</td>\n",
       "      <td>CONFIRMED</td>\n",
       "      <td>1</td>\n",
       "      <td>0</td>\n",
       "      <td>FEMALE</td>\n",
       "      <td>RESOLVED</td>\n",
       "      <td>No</td>\n",
       "      <td>No</td>\n",
       "      <td>No</td>\n",
       "      <td>No</td>\n",
       "      <td>No</td>\n",
       "      <td>No</td>\n",
       "    </tr>\n",
       "    <tr>\n",
       "      <th>1</th>\n",
       "      <td>Sporadic</td>\n",
       "      <td>50 to 59 Years</td>\n",
       "      <td>Willowdale East</td>\n",
       "      <td>M2N</td>\n",
       "      <td>Travel</td>\n",
       "      <td>CONFIRMED</td>\n",
       "      <td>0</td>\n",
       "      <td>0</td>\n",
       "      <td>MALE</td>\n",
       "      <td>RESOLVED</td>\n",
       "      <td>No</td>\n",
       "      <td>No</td>\n",
       "      <td>No</td>\n",
       "      <td>Yes</td>\n",
       "      <td>No</td>\n",
       "      <td>No</td>\n",
       "    </tr>\n",
       "    <tr>\n",
       "      <th>2</th>\n",
       "      <td>Sporadic</td>\n",
       "      <td>20 to 29 Years</td>\n",
       "      <td>Parkwoods-Donalda</td>\n",
       "      <td>M3A</td>\n",
       "      <td>Travel</td>\n",
       "      <td>CONFIRMED</td>\n",
       "      <td>15</td>\n",
       "      <td>29</td>\n",
       "      <td>FEMALE</td>\n",
       "      <td>RESOLVED</td>\n",
       "      <td>No</td>\n",
       "      <td>No</td>\n",
       "      <td>No</td>\n",
       "      <td>No</td>\n",
       "      <td>No</td>\n",
       "      <td>No</td>\n",
       "    </tr>\n",
       "    <tr>\n",
       "      <th>3</th>\n",
       "      <td>Sporadic</td>\n",
       "      <td>60 to 69 Years</td>\n",
       "      <td>Church-Yonge Corridor</td>\n",
       "      <td>M4W</td>\n",
       "      <td>Travel</td>\n",
       "      <td>CONFIRMED</td>\n",
       "      <td>26</td>\n",
       "      <td>33</td>\n",
       "      <td>FEMALE</td>\n",
       "      <td>RESOLVED</td>\n",
       "      <td>No</td>\n",
       "      <td>No</td>\n",
       "      <td>No</td>\n",
       "      <td>No</td>\n",
       "      <td>No</td>\n",
       "      <td>No</td>\n",
       "    </tr>\n",
       "    <tr>\n",
       "      <th>4</th>\n",
       "      <td>Sporadic</td>\n",
       "      <td>60 to 69 Years</td>\n",
       "      <td>Church-Yonge Corridor</td>\n",
       "      <td>M4W</td>\n",
       "      <td>Travel</td>\n",
       "      <td>CONFIRMED</td>\n",
       "      <td>30</td>\n",
       "      <td>34</td>\n",
       "      <td>MALE</td>\n",
       "      <td>RESOLVED</td>\n",
       "      <td>No</td>\n",
       "      <td>No</td>\n",
       "      <td>No</td>\n",
       "      <td>No</td>\n",
       "      <td>No</td>\n",
       "      <td>No</td>\n",
       "    </tr>\n",
       "  </tbody>\n",
       "</table>\n",
       "</div>"
      ],
      "text/plain": [
       "  Outbreak Associated       Age Group     Neighbourhood Name  FSA  \\\n",
       "0            Sporadic  50 to 59 Years        Willowdale East  M2N   \n",
       "1            Sporadic  50 to 59 Years        Willowdale East  M2N   \n",
       "2            Sporadic  20 to 29 Years      Parkwoods-Donalda  M3A   \n",
       "3            Sporadic  60 to 69 Years  Church-Yonge Corridor  M4W   \n",
       "4            Sporadic  60 to 69 Years  Church-Yonge Corridor  M4W   \n",
       "\n",
       "  Source of Infection Classification  Episode Date  Reported Date  \\\n",
       "0              Travel      CONFIRMED             1              0   \n",
       "1              Travel      CONFIRMED             0              0   \n",
       "2              Travel      CONFIRMED            15             29   \n",
       "3              Travel      CONFIRMED            26             33   \n",
       "4              Travel      CONFIRMED            30             34   \n",
       "\n",
       "  Client Gender   Outcome Currently Hospitalized Currently in ICU  \\\n",
       "0        FEMALE  RESOLVED                     No               No   \n",
       "1          MALE  RESOLVED                     No               No   \n",
       "2        FEMALE  RESOLVED                     No               No   \n",
       "3        FEMALE  RESOLVED                     No               No   \n",
       "4          MALE  RESOLVED                     No               No   \n",
       "\n",
       "  Currently Intubated Ever Hospitalized Ever in ICU Ever Intubated  \n",
       "0                  No                No          No             No  \n",
       "1                  No               Yes          No             No  \n",
       "2                  No                No          No             No  \n",
       "3                  No                No          No             No  \n",
       "4                  No                No          No             No  "
      ]
     },
     "execution_count": 4,
     "metadata": {},
     "output_type": "execute_result"
    }
   ],
   "source": [
    "data.head(5)"
   ]
  },
  {
   "cell_type": "markdown",
   "metadata": {},
   "source": [
    "# Algorithms only work with number, therefore, we have to convert categorical data into numerical values."
   ]
  },
  {
   "cell_type": "code",
   "execution_count": 5,
   "metadata": {},
   "outputs": [],
   "source": [
    "data_encoded = data.copy()\n",
    "for col in data.columns:\n",
    "    data_encoded[\"Encoded_\"+col] = ord_enc.fit_transform(data[[col]])"
   ]
  },
  {
   "cell_type": "code",
   "execution_count": 6,
   "metadata": {},
   "outputs": [
    {
     "data": {
      "text/plain": [
       "Index(['Outbreak Associated', 'Age Group', 'Neighbourhood Name', 'FSA',\n",
       "       'Source of Infection', 'Classification', 'Episode Date',\n",
       "       'Reported Date', 'Client Gender', 'Outcome', 'Currently Hospitalized',\n",
       "       'Currently in ICU', 'Currently Intubated', 'Ever Hospitalized',\n",
       "       'Ever in ICU', 'Ever Intubated', 'Encoded_Outbreak Associated',\n",
       "       'Encoded_Age Group', 'Encoded_Neighbourhood Name', 'Encoded_FSA',\n",
       "       'Encoded_Source of Infection', 'Encoded_Classification',\n",
       "       'Encoded_Episode Date', 'Encoded_Reported Date',\n",
       "       'Encoded_Client Gender', 'Encoded_Outcome',\n",
       "       'Encoded_Currently Hospitalized', 'Encoded_Currently in ICU',\n",
       "       'Encoded_Currently Intubated', 'Encoded_Ever Hospitalized',\n",
       "       'Encoded_Ever in ICU', 'Encoded_Ever Intubated'],\n",
       "      dtype='object')"
      ]
     },
     "execution_count": 6,
     "metadata": {},
     "output_type": "execute_result"
    }
   ],
   "source": [
    "data_encoded.columns"
   ]
  },
  {
   "cell_type": "code",
   "execution_count": 7,
   "metadata": {},
   "outputs": [
    {
     "data": {
      "text/html": [
       "<div>\n",
       "<style scoped>\n",
       "    .dataframe tbody tr th:only-of-type {\n",
       "        vertical-align: middle;\n",
       "    }\n",
       "\n",
       "    .dataframe tbody tr th {\n",
       "        vertical-align: top;\n",
       "    }\n",
       "\n",
       "    .dataframe thead th {\n",
       "        text-align: right;\n",
       "    }\n",
       "</style>\n",
       "<table border=\"1\" class=\"dataframe\">\n",
       "  <thead>\n",
       "    <tr style=\"text-align: right;\">\n",
       "      <th></th>\n",
       "      <th>Outbreak Associated</th>\n",
       "      <th>Age Group</th>\n",
       "      <th>Neighbourhood Name</th>\n",
       "      <th>FSA</th>\n",
       "      <th>Source of Infection</th>\n",
       "      <th>Classification</th>\n",
       "      <th>Episode Date</th>\n",
       "      <th>Reported Date</th>\n",
       "      <th>Client Gender</th>\n",
       "      <th>Outcome</th>\n",
       "      <th>...</th>\n",
       "      <th>Encoded_Episode Date</th>\n",
       "      <th>Encoded_Reported Date</th>\n",
       "      <th>Encoded_Client Gender</th>\n",
       "      <th>Encoded_Outcome</th>\n",
       "      <th>Encoded_Currently Hospitalized</th>\n",
       "      <th>Encoded_Currently in ICU</th>\n",
       "      <th>Encoded_Currently Intubated</th>\n",
       "      <th>Encoded_Ever Hospitalized</th>\n",
       "      <th>Encoded_Ever in ICU</th>\n",
       "      <th>Encoded_Ever Intubated</th>\n",
       "    </tr>\n",
       "  </thead>\n",
       "  <tbody>\n",
       "    <tr>\n",
       "      <th>0</th>\n",
       "      <td>Sporadic</td>\n",
       "      <td>50 to 59 Years</td>\n",
       "      <td>Willowdale East</td>\n",
       "      <td>M2N</td>\n",
       "      <td>Travel</td>\n",
       "      <td>CONFIRMED</td>\n",
       "      <td>1</td>\n",
       "      <td>0</td>\n",
       "      <td>FEMALE</td>\n",
       "      <td>RESOLVED</td>\n",
       "      <td>...</td>\n",
       "      <td>1.0</td>\n",
       "      <td>0.0</td>\n",
       "      <td>0.0</td>\n",
       "      <td>2.0</td>\n",
       "      <td>0.0</td>\n",
       "      <td>0.0</td>\n",
       "      <td>0.0</td>\n",
       "      <td>0.0</td>\n",
       "      <td>0.0</td>\n",
       "      <td>0.0</td>\n",
       "    </tr>\n",
       "    <tr>\n",
       "      <th>1</th>\n",
       "      <td>Sporadic</td>\n",
       "      <td>50 to 59 Years</td>\n",
       "      <td>Willowdale East</td>\n",
       "      <td>M2N</td>\n",
       "      <td>Travel</td>\n",
       "      <td>CONFIRMED</td>\n",
       "      <td>0</td>\n",
       "      <td>0</td>\n",
       "      <td>MALE</td>\n",
       "      <td>RESOLVED</td>\n",
       "      <td>...</td>\n",
       "      <td>0.0</td>\n",
       "      <td>0.0</td>\n",
       "      <td>1.0</td>\n",
       "      <td>2.0</td>\n",
       "      <td>0.0</td>\n",
       "      <td>0.0</td>\n",
       "      <td>0.0</td>\n",
       "      <td>1.0</td>\n",
       "      <td>0.0</td>\n",
       "      <td>0.0</td>\n",
       "    </tr>\n",
       "    <tr>\n",
       "      <th>2</th>\n",
       "      <td>Sporadic</td>\n",
       "      <td>20 to 29 Years</td>\n",
       "      <td>Parkwoods-Donalda</td>\n",
       "      <td>M3A</td>\n",
       "      <td>Travel</td>\n",
       "      <td>CONFIRMED</td>\n",
       "      <td>15</td>\n",
       "      <td>29</td>\n",
       "      <td>FEMALE</td>\n",
       "      <td>RESOLVED</td>\n",
       "      <td>...</td>\n",
       "      <td>4.0</td>\n",
       "      <td>2.0</td>\n",
       "      <td>0.0</td>\n",
       "      <td>2.0</td>\n",
       "      <td>0.0</td>\n",
       "      <td>0.0</td>\n",
       "      <td>0.0</td>\n",
       "      <td>0.0</td>\n",
       "      <td>0.0</td>\n",
       "      <td>0.0</td>\n",
       "    </tr>\n",
       "    <tr>\n",
       "      <th>3</th>\n",
       "      <td>Sporadic</td>\n",
       "      <td>60 to 69 Years</td>\n",
       "      <td>Church-Yonge Corridor</td>\n",
       "      <td>M4W</td>\n",
       "      <td>Travel</td>\n",
       "      <td>CONFIRMED</td>\n",
       "      <td>26</td>\n",
       "      <td>33</td>\n",
       "      <td>FEMALE</td>\n",
       "      <td>RESOLVED</td>\n",
       "      <td>...</td>\n",
       "      <td>7.0</td>\n",
       "      <td>3.0</td>\n",
       "      <td>0.0</td>\n",
       "      <td>2.0</td>\n",
       "      <td>0.0</td>\n",
       "      <td>0.0</td>\n",
       "      <td>0.0</td>\n",
       "      <td>0.0</td>\n",
       "      <td>0.0</td>\n",
       "      <td>0.0</td>\n",
       "    </tr>\n",
       "    <tr>\n",
       "      <th>4</th>\n",
       "      <td>Sporadic</td>\n",
       "      <td>60 to 69 Years</td>\n",
       "      <td>Church-Yonge Corridor</td>\n",
       "      <td>M4W</td>\n",
       "      <td>Travel</td>\n",
       "      <td>CONFIRMED</td>\n",
       "      <td>30</td>\n",
       "      <td>34</td>\n",
       "      <td>MALE</td>\n",
       "      <td>RESOLVED</td>\n",
       "      <td>...</td>\n",
       "      <td>8.0</td>\n",
       "      <td>4.0</td>\n",
       "      <td>1.0</td>\n",
       "      <td>2.0</td>\n",
       "      <td>0.0</td>\n",
       "      <td>0.0</td>\n",
       "      <td>0.0</td>\n",
       "      <td>0.0</td>\n",
       "      <td>0.0</td>\n",
       "      <td>0.0</td>\n",
       "    </tr>\n",
       "  </tbody>\n",
       "</table>\n",
       "<p>5 rows × 32 columns</p>\n",
       "</div>"
      ],
      "text/plain": [
       "  Outbreak Associated       Age Group     Neighbourhood Name  FSA  \\\n",
       "0            Sporadic  50 to 59 Years        Willowdale East  M2N   \n",
       "1            Sporadic  50 to 59 Years        Willowdale East  M2N   \n",
       "2            Sporadic  20 to 29 Years      Parkwoods-Donalda  M3A   \n",
       "3            Sporadic  60 to 69 Years  Church-Yonge Corridor  M4W   \n",
       "4            Sporadic  60 to 69 Years  Church-Yonge Corridor  M4W   \n",
       "\n",
       "  Source of Infection Classification  Episode Date  Reported Date  \\\n",
       "0              Travel      CONFIRMED             1              0   \n",
       "1              Travel      CONFIRMED             0              0   \n",
       "2              Travel      CONFIRMED            15             29   \n",
       "3              Travel      CONFIRMED            26             33   \n",
       "4              Travel      CONFIRMED            30             34   \n",
       "\n",
       "  Client Gender   Outcome  ... Encoded_Episode Date Encoded_Reported Date  \\\n",
       "0        FEMALE  RESOLVED  ...                  1.0                   0.0   \n",
       "1          MALE  RESOLVED  ...                  0.0                   0.0   \n",
       "2        FEMALE  RESOLVED  ...                  4.0                   2.0   \n",
       "3        FEMALE  RESOLVED  ...                  7.0                   3.0   \n",
       "4          MALE  RESOLVED  ...                  8.0                   4.0   \n",
       "\n",
       "  Encoded_Client Gender Encoded_Outcome Encoded_Currently Hospitalized  \\\n",
       "0                   0.0             2.0                            0.0   \n",
       "1                   1.0             2.0                            0.0   \n",
       "2                   0.0             2.0                            0.0   \n",
       "3                   0.0             2.0                            0.0   \n",
       "4                   1.0             2.0                            0.0   \n",
       "\n",
       "  Encoded_Currently in ICU  Encoded_Currently Intubated  \\\n",
       "0                      0.0                          0.0   \n",
       "1                      0.0                          0.0   \n",
       "2                      0.0                          0.0   \n",
       "3                      0.0                          0.0   \n",
       "4                      0.0                          0.0   \n",
       "\n",
       "   Encoded_Ever Hospitalized  Encoded_Ever in ICU  Encoded_Ever Intubated  \n",
       "0                        0.0                  0.0                     0.0  \n",
       "1                        1.0                  0.0                     0.0  \n",
       "2                        0.0                  0.0                     0.0  \n",
       "3                        0.0                  0.0                     0.0  \n",
       "4                        0.0                  0.0                     0.0  \n",
       "\n",
       "[5 rows x 32 columns]"
      ]
     },
     "execution_count": 7,
     "metadata": {},
     "output_type": "execute_result"
    }
   ],
   "source": [
    "data_encoded.head()"
   ]
  },
  {
   "cell_type": "markdown",
   "metadata": {},
   "source": [
    "# Feature Importance"
   ]
  },
  {
   "cell_type": "markdown",
   "metadata": {},
   "source": [
    "# Logistic Regression for Feature importance"
   ]
  },
  {
   "cell_type": "markdown",
   "metadata": {},
   "source": [
    "# Ever Hospitalized "
   ]
  },
  {
   "cell_type": "code",
   "execution_count": 8,
   "metadata": {},
   "outputs": [
    {
     "name": "stdout",
     "output_type": "stream",
     "text": [
      "Feature 0: Outbreak Associated, Score: -0.50541\n",
      "Feature 1: Age Group, Score: 0.55440\n",
      "Feature 2: Neighbourhood Name, Score: -0.00019\n",
      "Feature 3: FSA, Score: 0.00074\n",
      "Feature 4: Source of Infection, Score: -0.25076\n",
      "Feature 5: Classification, Score: -0.12122\n",
      "Feature 6: Episode Date, Score: -0.00014\n",
      "Feature 7: Reported Date, Score: 0.00038\n",
      "Feature 8: Client Gender, Score: 0.06106\n",
      "Feature 9: Outcome, Score: -1.71713\n",
      "Feature 10: Currently Hospitalized, Score: 0.07326\n",
      "Feature 11: Currently in ICU, Score: 0.02154\n",
      "Feature 12: Currently Intubated, Score: 0.01292\n"
     ]
    },
    {
     "name": "stderr",
     "output_type": "stream",
     "text": [
      "C:\\Users\\nidhi19\\Anaconda3\\lib\\site-packages\\sklearn\\linear_model\\_logistic.py:762: ConvergenceWarning: lbfgs failed to converge (status=1):\n",
      "STOP: TOTAL NO. of ITERATIONS REACHED LIMIT.\n",
      "\n",
      "Increase the number of iterations (max_iter) or scale the data as shown in:\n",
      "    https://scikit-learn.org/stable/modules/preprocessing.html\n",
      "Please also refer to the documentation for alternative solver options:\n",
      "    https://scikit-learn.org/stable/modules/linear_model.html#logistic-regression\n",
      "  n_iter_i = _check_optimize_result(\n"
     ]
    },
    {
     "data": {
      "image/png": "[encoded data removed]",
      "text/plain": [
       "<Figure size 432x288 with 1 Axes>"
      ]
     },
     "metadata": {
      "needs_background": "light"
     },
     "output_type": "display_data"
    }
   ],
   "source": [
    "feats = ['Encoded_Outbreak Associated',\n",
    "       'Encoded_Age Group', 'Encoded_Neighbourhood Name', 'Encoded_FSA',\n",
    "       'Encoded_Source of Infection', 'Encoded_Classification',\n",
    "       'Encoded_Episode Date', 'Encoded_Reported Date',\n",
    "       'Encoded_Client Gender', 'Encoded_Outcome',\n",
    "       'Encoded_Currently Hospitalized', 'Encoded_Currently in ICU',\n",
    "       'Encoded_Currently Intubated']\n",
    "dep = 'Encoded_Ever Hospitalized'\n",
    "X = data_encoded[feats]\n",
    "Y = data_encoded[dep]\n",
    "\n",
    "# define the model\n",
    "model = LogisticRegression()\n",
    "# fit the model\n",
    "model.fit(X, Y)\n",
    "# get importance\n",
    "importance = model.coef_[0]\n",
    "# summarize feature importance\n",
    "for i,v in enumerate(importance):\n",
    "\tprint('Feature %s: %s, Score: %.5f' % (i, feats[i].replace(\"Encoded_\", ''),v))\n",
    "# plot feature importance\n",
    "plt.bar([x for x in range(len(importance))], importance)\n",
    "plt.show()  "
   ]
  },
  {
   "cell_type": "markdown",
   "metadata": {},
   "source": [
    "# Ever in ICU"
   ]
  },
  {
   "cell_type": "code",
   "execution_count": 9,
   "metadata": {},
   "outputs": [
    {
     "name": "stdout",
     "output_type": "stream",
     "text": [
      "Feature 0: Outbreak Associated, Score: -0.14377\n",
      "Feature 1: Age Group, Score: 0.37743\n",
      "Feature 2: Neighbourhood Name, Score: -0.00075\n",
      "Feature 3: FSA, Score: -0.00222\n",
      "Feature 4: Source of Infection, Score: -0.31691\n",
      "Feature 5: Classification, Score: -0.14879\n",
      "Feature 6: Episode Date, Score: -0.00482\n",
      "Feature 7: Reported Date, Score: 0.00307\n",
      "Feature 8: Client Gender, Score: 0.19230\n",
      "Feature 9: Outcome, Score: -2.02221\n",
      "Feature 10: Currently Hospitalized, Score: 0.02318\n",
      "Feature 11: Currently in ICU, Score: 0.12784\n",
      "Feature 12: Currently Intubated, Score: 0.07654\n"
     ]
    },
    {
     "name": "stderr",
     "output_type": "stream",
     "text": [
      "C:\\Users\\nidhi19\\Anaconda3\\lib\\site-packages\\sklearn\\linear_model\\_logistic.py:762: ConvergenceWarning: lbfgs failed to converge (status=1):\n",
      "STOP: TOTAL NO. of ITERATIONS REACHED LIMIT.\n",
      "\n",
      "Increase the number of iterations (max_iter) or scale the data as shown in:\n",
      "    https://scikit-learn.org/stable/modules/preprocessing.html\n",
      "Please also refer to the documentation for alternative solver options:\n",
      "    https://scikit-learn.org/stable/modules/linear_model.html#logistic-regression\n",
      "  n_iter_i = _check_optimize_result(\n"
     ]
    },
    {
     "data": {
      "image/png": "[encoded data removed]",
      "text/plain": [
       "<Figure size 432x288 with 1 Axes>"
      ]
     },
     "metadata": {
      "needs_background": "light"
     },
     "output_type": "display_data"
    }
   ],
   "source": [
    "feats = ['Encoded_Outbreak Associated',\n",
    "       'Encoded_Age Group', 'Encoded_Neighbourhood Name', 'Encoded_FSA',\n",
    "       'Encoded_Source of Infection', 'Encoded_Classification',\n",
    "       'Encoded_Episode Date', 'Encoded_Reported Date',\n",
    "       'Encoded_Client Gender', 'Encoded_Outcome',\n",
    "       'Encoded_Currently Hospitalized', 'Encoded_Currently in ICU',\n",
    "       'Encoded_Currently Intubated']\n",
    "dep = 'Encoded_Ever in ICU'\n",
    "X = data_encoded[feats]\n",
    "Y = data_encoded[dep]\n",
    "\n",
    "# define the model\n",
    "model = LogisticRegression()\n",
    "# fit the model\n",
    "model.fit(X, Y)\n",
    "# get importance\n",
    "importance = model.coef_[0]\n",
    "# summarize feature importance\n",
    "for i,v in enumerate(importance):\n",
    "\tprint('Feature %s: %s, Score: %.5f' % (i, feats[i].replace(\"Encoded_\", ''),v))\n",
    "# plot feature importance\n",
    "plt.bar([x for x in range(len(importance))], importance)\n",
    "plt.show() "
   ]
  },
  {
   "cell_type": "markdown",
   "metadata": {},
   "source": [
    "# Ever Intubated"
   ]
  },
  {
   "cell_type": "code",
   "execution_count": 10,
   "metadata": {},
   "outputs": [
    {
     "name": "stdout",
     "output_type": "stream",
     "text": [
      "Feature 0: Outbreak Associated, Score: 1.18220\n",
      "Feature 1: Age Group, Score: 0.32338\n",
      "Feature 2: Neighbourhood Name, Score: -0.00363\n",
      "Feature 3: FSA, Score: -0.00517\n",
      "Feature 4: Source of Infection, Score: -0.12053\n",
      "Feature 5: Classification, Score: -0.35061\n",
      "Feature 6: Episode Date, Score: -0.01778\n",
      "Feature 7: Reported Date, Score: 0.01374\n",
      "Feature 8: Client Gender, Score: 0.14987\n",
      "Feature 9: Outcome, Score: -2.50856\n",
      "Feature 10: Currently Hospitalized, Score: -0.39143\n",
      "Feature 11: Currently in ICU, Score: 0.28491\n",
      "Feature 12: Currently Intubated, Score: 0.38721\n"
     ]
    },
    {
     "name": "stderr",
     "output_type": "stream",
     "text": [
      "C:\\Users\\nidhi19\\Anaconda3\\lib\\site-packages\\sklearn\\linear_model\\_logistic.py:762: ConvergenceWarning: lbfgs failed to converge (status=1):\n",
      "STOP: TOTAL NO. of ITERATIONS REACHED LIMIT.\n",
      "\n",
      "Increase the number of iterations (max_iter) or scale the data as shown in:\n",
      "    https://scikit-learn.org/stable/modules/preprocessing.html\n",
      "Please also refer to the documentation for alternative solver options:\n",
      "    https://scikit-learn.org/stable/modules/linear_model.html#logistic-regression\n",
      "  n_iter_i = _check_optimize_result(\n"
     ]
    },
    {
     "data": {
      "image/png": "[encoded data removed]",
      "text/plain": [
       "<Figure size 432x288 with 1 Axes>"
      ]
     },
     "metadata": {
      "needs_background": "light"
     },
     "output_type": "display_data"
    }
   ],
   "source": [
    "feats = ['Encoded_Outbreak Associated',\n",
    "       'Encoded_Age Group', 'Encoded_Neighbourhood Name', 'Encoded_FSA',\n",
    "       'Encoded_Source of Infection', 'Encoded_Classification',\n",
    "       'Encoded_Episode Date', 'Encoded_Reported Date',\n",
    "       'Encoded_Client Gender', 'Encoded_Outcome',\n",
    "       'Encoded_Currently Hospitalized', 'Encoded_Currently in ICU',\n",
    "       'Encoded_Currently Intubated']\n",
    "dep = 'Encoded_Ever Intubated'\n",
    "X = data_encoded[feats]\n",
    "Y = data_encoded[dep]\n",
    "\n",
    "# define the model\n",
    "model = LogisticRegression()\n",
    "# fit the model\n",
    "model.fit(X, Y)\n",
    "# get importance\n",
    "importance = model.coef_[0]\n",
    "# summarize feature importance\n",
    "for i,v in enumerate(importance):\n",
    "\tprint('Feature %s: %s, Score: %.5f' % (i, feats[i].replace(\"Encoded_\", ''),v))\n",
    "# plot feature importance\n",
    "plt.bar([x for x in range(len(importance))], importance)\n",
    "plt.show() "
   ]
  },
  {
   "cell_type": "markdown",
   "metadata": {},
   "source": [
    "# Decision Tree Based Feature Importance"
   ]
  },
  {
   "cell_type": "markdown",
   "metadata": {},
   "source": [
    "# Ever Hospitalized"
   ]
  },
  {
   "cell_type": "code",
   "execution_count": 11,
   "metadata": {},
   "outputs": [
    {
     "name": "stdout",
     "output_type": "stream",
     "text": [
      "Feature 0: Encoded_Outbreak Associated, Score: 0.02767\n",
      "Feature 1: Encoded_Age Group, Score: 0.08298\n",
      "Feature 2: Encoded_Neighbourhood Name, Score: 0.13387\n",
      "Feature 3: Encoded_FSA, Score: 0.12359\n",
      "Feature 4: Encoded_Source of Infection, Score: 0.03842\n",
      "Feature 5: Encoded_Classification, Score: 0.00435\n",
      "Feature 6: Encoded_Episode Date, Score: 0.22351\n",
      "Feature 7: Encoded_Reported Date, Score: 0.21243\n",
      "Feature 8: Encoded_Client Gender, Score: 0.02639\n",
      "Feature 9: Encoded_Outcome, Score: 0.12478\n",
      "Feature 10: Encoded_Currently Hospitalized, Score: 0.00200\n",
      "Feature 11: Encoded_Currently in ICU, Score: 0.00000\n",
      "Feature 12: Encoded_Currently Intubated, Score: 0.00000\n"
     ]
    },
    {
     "data": {
      "image/png": "[encoded data removed]",
      "text/plain": [
       "<Figure size 432x288 with 1 Axes>"
      ]
     },
     "metadata": {
      "needs_background": "light"
     },
     "output_type": "display_data"
    }
   ],
   "source": [
    "feats = ['Encoded_Outbreak Associated',\n",
    "       'Encoded_Age Group', 'Encoded_Neighbourhood Name', 'Encoded_FSA',\n",
    "       'Encoded_Source of Infection', 'Encoded_Classification',\n",
    "       'Encoded_Episode Date', 'Encoded_Reported Date',\n",
    "       'Encoded_Client Gender', 'Encoded_Outcome',\n",
    "       'Encoded_Currently Hospitalized', 'Encoded_Currently in ICU',\n",
    "       'Encoded_Currently Intubated']\n",
    "dep = 'Encoded_Ever Hospitalized'\n",
    "X = data_encoded[feats]\n",
    "Y = data_encoded[dep]\n",
    "\n",
    "# define the model\n",
    "model = DecisionTreeClassifier()\n",
    "# fit the model\n",
    "model.fit(X, Y)\n",
    "# get importance\n",
    "importance = model.feature_importances_\n",
    "# summarize feature importance\n",
    "for i,v in enumerate(importance):\n",
    "\tprint('Feature %s: %s, Score: %.5f' % (i, feats[i], v))\n",
    "# plot feature importance\n",
    "plt.bar([x for x in range(len(importance))], importance)\n",
    "plt.show() "
   ]
  },
  {
   "cell_type": "markdown",
   "metadata": {},
   "source": [
    "# Ever in ICU"
   ]
  },
  {
   "cell_type": "code",
   "execution_count": 12,
   "metadata": {},
   "outputs": [
    {
     "name": "stdout",
     "output_type": "stream",
     "text": [
      "Feature 0: Encoded_Outbreak Associated, Score: 0.00391\n",
      "Feature 1: Encoded_Age Group, Score: 0.06633\n",
      "Feature 2: Encoded_Neighbourhood Name, Score: 0.13884\n",
      "Feature 3: Encoded_FSA, Score: 0.12089\n",
      "Feature 4: Encoded_Source of Infection, Score: 0.09546\n",
      "Feature 5: Encoded_Classification, Score: 0.00250\n",
      "Feature 6: Encoded_Episode Date, Score: 0.22938\n",
      "Feature 7: Encoded_Reported Date, Score: 0.20254\n",
      "Feature 8: Encoded_Client Gender, Score: 0.03113\n",
      "Feature 9: Encoded_Outcome, Score: 0.09969\n",
      "Feature 10: Encoded_Currently Hospitalized, Score: 0.00056\n",
      "Feature 11: Encoded_Currently in ICU, Score: 0.00879\n",
      "Feature 12: Encoded_Currently Intubated, Score: 0.00000\n"
     ]
    },
    {
     "data": {
      "image/png": "[encoded data removed]",
      "text/plain": [
       "<Figure size 432x288 with 1 Axes>"
      ]
     },
     "metadata": {
      "needs_background": "light"
     },
     "output_type": "display_data"
    }
   ],
   "source": [
    "feats = ['Encoded_Outbreak Associated',\n",
    "       'Encoded_Age Group', 'Encoded_Neighbourhood Name', 'Encoded_FSA',\n",
    "       'Encoded_Source of Infection', 'Encoded_Classification',\n",
    "       'Encoded_Episode Date', 'Encoded_Reported Date',\n",
    "       'Encoded_Client Gender', 'Encoded_Outcome',\n",
    "       'Encoded_Currently Hospitalized', 'Encoded_Currently in ICU',\n",
    "       'Encoded_Currently Intubated']\n",
    "dep = 'Encoded_Ever in ICU'\n",
    "X = data_encoded[feats]\n",
    "Y = data_encoded[dep]\n",
    "\n",
    "# define the model\n",
    "model = DecisionTreeClassifier()\n",
    "# fit the model\n",
    "model.fit(X, Y)\n",
    "# get importance\n",
    "importance = model.feature_importances_\n",
    "# summarize feature importance\n",
    "for i,v in enumerate(importance):\n",
    "\tprint('Feature %s: %s, Score: %.5f' % (i, feats[i], v))\n",
    "# plot feature importance\n",
    "plt.bar([x for x in range(len(importance))], importance)\n",
    "plt.show()"
   ]
  },
  {
   "cell_type": "markdown",
   "metadata": {},
   "source": [
    "# Ever Intubated"
   ]
  },
  {
   "cell_type": "code",
   "execution_count": 14,
   "metadata": {},
   "outputs": [
    {
     "name": "stdout",
     "output_type": "stream",
     "text": [
      "Feature 0: Encoded_Outbreak Associated, Score: 0.00768\n",
      "Feature 1: Encoded_Age Group, Score: 0.06551\n",
      "Feature 2: Encoded_Neighbourhood Name, Score: 0.12894\n",
      "Feature 3: Encoded_FSA, Score: 0.12495\n",
      "Feature 4: Encoded_Source of Infection, Score: 0.09559\n",
      "Feature 5: Encoded_Classification, Score: 0.00250\n",
      "Feature 6: Encoded_Episode Date, Score: 0.21676\n",
      "Feature 7: Encoded_Reported Date, Score: 0.21585\n",
      "Feature 8: Encoded_Client Gender, Score: 0.03030\n",
      "Feature 9: Encoded_Outcome, Score: 0.07676\n",
      "Feature 10: Encoded_Currently Hospitalized, Score: 0.00929\n",
      "Feature 11: Encoded_Currently in ICU, Score: 0.00000\n",
      "Feature 12: Encoded_Currently Intubated, Score: 0.02587\n"
     ]
    },
    {
     "data": {
      "image/png": "[encoded data removed]",
      "text/plain": [
       "<Figure size 432x288 with 1 Axes>"
      ]
     },
     "metadata": {
      "needs_background": "light"
     },
     "output_type": "display_data"
    }
   ],
   "source": [
    "feats = ['Encoded_Outbreak Associated',\n",
    "       'Encoded_Age Group', 'Encoded_Neighbourhood Name', 'Encoded_FSA',\n",
    "       'Encoded_Source of Infection', 'Encoded_Classification',\n",
    "       'Encoded_Episode Date', 'Encoded_Reported Date',\n",
    "       'Encoded_Client Gender', 'Encoded_Outcome',\n",
    "       'Encoded_Currently Hospitalized', 'Encoded_Currently in ICU',\n",
    "       'Encoded_Currently Intubated']\n",
    "dep = 'Encoded_Ever Intubated'\n",
    "X = data_encoded[feats]\n",
    "Y = data_encoded[dep]\n",
    "\n",
    "# define the model\n",
    "model = DecisionTreeClassifier()\n",
    "# fit the model\n",
    "model.fit(X, Y)\n",
    "# get importance\n",
    "importance = model.feature_importances_\n",
    "# summarize feature importance\n",
    "for i,v in enumerate(importance):\n",
    "\tprint('Feature %s: %s, Score: %.5f' % (i, feats[i], v))\n",
    "# plot feature importance\n",
    "plt.bar([x for x in range(len(importance))], importance)\n",
    "plt.show()"
   ]
  }
 ],
 "metadata": {
  "kernelspec": {
   "display_name": "Python 3",
   "language": "python",
   "name": "python3"
  },
  "language_info": {
   "codemirror_mode": {
    "name": "ipython",
    "version": 3
   },
   "file_extension": ".py",
   "mimetype": "text/x-python",
   "name": "python",
   "nbconvert_exporter": "python",
   "pygments_lexer": "ipython3",
   "version": "3.8.3"
  }
 },
 "nbformat": 4,
 "nbformat_minor": 4
}
